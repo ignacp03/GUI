{
 "cells": [
  {
   "cell_type": "code",
   "execution_count": 1,
   "metadata": {},
   "outputs": [],
   "source": [
    "from PIL import Image\n",
    "import xml.etree.ElementTree as ET\n",
    "import re as re\n",
    "import imageio as imageio"
   ]
  },
  {
   "cell_type": "code",
   "execution_count": 2,
   "metadata": {},
   "outputs": [],
   "source": [
    "class VARIABLE:\n",
    "    def __init__(self):\n",
    "        self.name = ''\n",
    "        self.value = 0\n",
    "\n",
    "def Variable2Dict(Variable):\n",
    "    '''Takes a list of objects of class VARIABLE and returns the data in a dictionary\n",
    "    return varDict'''\n",
    "    varDict = {vari.name: vari.value for vari in Variable}\n",
    "    return varDict\n"
   ]
  },
  {
   "cell_type": "code",
   "execution_count": 127,
   "metadata": {},
   "outputs": [],
   "source": [
    "im = Image.open(\"magAtoms_46.png\")"
   ]
  },
  {
   "cell_type": "code",
   "execution_count": 128,
   "metadata": {},
   "outputs": [
    {
     "name": "stdout",
     "output_type": "stream",
     "text": [
      "<?xml version=\"1.0\" encoding=\"ISO8859-1\" standalone=\"no\" ?>\n",
      "<controlconfig>\n",
      "\n",
      "  <image>\n",
      "    <name>magAtoms</name>\n",
      "    <camera>Camera_Mag</camera>\n",
      "    <shutteroff>0</shutteroff>\n",
      "    <sequencelength>1</sequencelength>\n",
      "    <acquisitionmode>0</acquisitionmode>\n",
      "    <exposuretime>0.001</exposuretime>\n",
      "    <isregionofinterest>0</isregionofinterest>\n",
      "    <offsetx>0</offsetx>\n",
      "    <offsety>0</offsety>\n",
      "    <sizex>640</sizex>\n",
      "    <sizey>480</sizey>\n",
      "    <detuning>0</detuning>\n",
      "    <sigma0>2.807E-13</sigma0>\n",
      "    <custom>0</custom>\n",
      "    <numofcomponents>1</numofcomponents>\n",
      "    <toftime>0.0</toftime>\n",
      "    <trapfreqx></trapfreqx>\n",
      "    <trapfreqy></trapfreqy>\n",
      "    <trapfreqz></trapfreqz>\n",
      "    <mass>1.4446686951E-25</mass>\n",
      "    <historyscale>1</historyscale>\n",
      "    <historyoffset>0</historyoffset>\n",
      "    <fits/>\n",
      "  </image>\n",
      "\n",
      "</controlconfig>\n",
      "\n"
     ]
    }
   ],
   "source": [
    "info = im.info\n",
    "print(info[\"Settings\"])"
   ]
  },
  {
   "cell_type": "code",
   "execution_count": 226,
   "metadata": {},
   "outputs": [
    {
     "name": "stdout",
     "output_type": "stream",
     "text": [
      "(4233.3164, 4233.3164)\n"
     ]
    }
   ],
   "source": [
    "print(info[\"dpi\"])"
   ]
  },
  {
   "cell_type": "code",
   "execution_count": 130,
   "metadata": {},
   "outputs": [
    {
     "data": {
      "text/plain": [
       "<Element 'controlconfig' at 0x000001907B225E90>"
      ]
     },
     "execution_count": 130,
     "metadata": {},
     "output_type": "execute_result"
    }
   ],
   "source": [
    "stt = ET.fromstring(info[\"Settings\"])\n",
    "ctr = ET.fromstring(info[\"Control\"])\n",
    "ctr"
   ]
  },
  {
   "cell_type": "code",
   "execution_count": 131,
   "metadata": {},
   "outputs": [
    {
     "data": {
      "text/plain": [
       "'Camera_Mag'"
      ]
     },
     "execution_count": 131,
     "metadata": {},
     "output_type": "execute_result"
    }
   ],
   "source": [
    "stt.find('.//camera').text"
   ]
  },
  {
   "cell_type": "code",
   "execution_count": 132,
   "metadata": {},
   "outputs": [
    {
     "data": {
      "text/plain": [
       "<Element 'variables' at 0x000001907FCC0130>"
      ]
     },
     "execution_count": 132,
     "metadata": {},
     "output_type": "execute_result"
    }
   ],
   "source": [
    "varis = ctr.find('.//variables')\n",
    "varis"
   ]
  },
  {
   "cell_type": "code",
   "execution_count": 133,
   "metadata": {},
   "outputs": [],
   "source": [
    "vind1 = [m.start() for m in re.finditer(\"<variable>\\n      <name>\", info[\"Control\"])]\n",
    "vind2 = [m.start() for m in re.finditer(\"</name>\\n      <value>\", info[\"Control\"])]\n"
   ]
  },
  {
   "cell_type": "code",
   "execution_count": 134,
   "metadata": {},
   "outputs": [
    {
     "data": {
      "text/plain": [
       "219"
      ]
     },
     "execution_count": 134,
     "metadata": {},
     "output_type": "execute_result"
    }
   ],
   "source": [
    "numVars = len(vind1)\n",
    "numVars"
   ]
  },
  {
   "cell_type": "code",
   "execution_count": 1,
   "metadata": {},
   "outputs": [],
   "source": [
    "import os\n",
    "import pandas as pd\n",
    "path = os.getcwd()\n",
    "import glob as glb\n",
    "import numpy as np\n",
    "import scipy.signal as spsig\n",
    "import matplotlib.pyplot as plt\n",
    "from scipy.optimize import curve_fit"
   ]
  },
  {
   "cell_type": "code",
   "execution_count": 2,
   "metadata": {},
   "outputs": [],
   "source": [
    "import processing.ImgProc as IP\n",
    "from processing.load import ReadImage\n",
    "import numpy as np\n"
   ]
  },
  {
   "cell_type": "code",
   "execution_count": 3,
   "metadata": {},
   "outputs": [],
   "source": [
    "dark, bright, atoms = \"magDark_3.png\", \"magBright_3.png\", \"magAtoms_3.png\"\n"
   ]
  },
  {
   "cell_type": "code",
   "execution_count": 4,
   "metadata": {},
   "outputs": [],
   "source": [
    "m = IP.Meassurement(dark, bright, atoms, \"BEC\", 1.2, pixelSize = 7.5e-6)"
   ]
  },
  {
   "cell_type": "code",
   "execution_count": 5,
   "metadata": {},
   "outputs": [],
   "source": [
    "m.cropImage()"
   ]
  },
  {
   "cell_type": "code",
   "execution_count": 6,
   "metadata": {},
   "outputs": [
    {
     "data": {
      "text/plain": [
       "<matplotlib.image.AxesImage at 0x1f4dbd1d910>"
      ]
     },
     "execution_count": 6,
     "metadata": {},
     "output_type": "execute_result"
    },
    {
     "data": {
      "image/png": "[encoded data removed]",
      "text/plain": [
       "<Figure size 640x480 with 1 Axes>"
      ]
     },
     "metadata": {},
     "output_type": "display_data"
    }
   ],
   "source": [
    "plt.imshow(m.ROI, vmax = 10)"
   ]
  },
  {
   "cell_type": "code",
   "execution_count": 7,
   "metadata": {},
   "outputs": [],
   "source": [
    "m.FitROI()"
   ]
  },
  {
   "cell_type": "code",
   "execution_count": 8,
   "metadata": {},
   "outputs": [
    {
     "data": {
      "text/plain": [
       "<matplotlib.image.AxesImage at 0x1f4dbda71d0>"
      ]
     },
     "execution_count": 8,
     "metadata": {},
     "output_type": "execute_result"
    },
    {
     "data": {
      "image/png": "[encoded data removed]",
      "text/plain": [
       "<Figure size 640x480 with 1 Axes>"
      ]
     },
     "metadata": {},
     "output_type": "display_data"
    }
   ],
   "source": [
    "plt.imshow(m.fitted_image)"
   ]
  },
  {
   "cell_type": "code",
   "execution_count": null,
   "metadata": {},
   "outputs": [],
   "source": []
  },
  {
   "cell_type": "code",
   "execution_count": 9,
   "metadata": {},
   "outputs": [],
   "source": [
    "m.calculateResults()"
   ]
  },
  {
   "cell_type": "code",
   "execution_count": 10,
   "metadata": {},
   "outputs": [
    {
     "data": {
      "text/plain": [
       "{'Fitted Atom Number': 43826.79828814897,\n",
       " 'Integrated Atom Number': 43826.80230626296,\n",
       " 'Temperature': 0}"
      ]
     },
     "execution_count": 10,
     "metadata": {},
     "output_type": "execute_result"
    }
   ],
   "source": [
    "m.results\n"
   ]
  },
  {
   "cell_type": "code",
   "execution_count": 52,
   "metadata": {},
   "outputs": [],
   "source": [
    "m.variables[\"ToFTime\"] = 0.09"
   ]
  },
  {
   "cell_type": "code",
   "execution_count": 36,
   "metadata": {},
   "outputs": [],
   "source": [
    "from processing.SaverLoader import saveData, LoadData, saveData2\n",
    "import time"
   ]
  },
  {
   "cell_type": "code",
   "execution_count": 16,
   "metadata": {},
   "outputs": [],
   "source": [
    "for i in range(30):\n",
    "    saveData(m, \"\",\"processedData.db\" )\n",
    "    time.sleep(1)"
   ]
  },
  {
   "cell_type": "code",
   "execution_count": 40,
   "metadata": {},
   "outputs": [],
   "source": [
    "saveData2(m, \"\", \"processedData.pkl\")"
   ]
  },
  {
   "cell_type": "code",
   "execution_count": 53,
   "metadata": {},
   "outputs": [],
   "source": [
    "saveData(m, \"\",\"processedData.db\" )"
   ]
  },
  {
   "cell_type": "code",
   "execution_count": 44,
   "metadata": {},
   "outputs": [],
   "source": [
    "data = LoadData(\"processedData.db\", load_all= True)\n",
    "#image = data[-1][\"ROI\"]"
   ]
  },
  {
   "cell_type": "code",
   "execution_count": 45,
   "metadata": {},
   "outputs": [
    {
     "data": {
      "text/plain": [
       "2"
      ]
     },
     "execution_count": 45,
     "metadata": {},
     "output_type": "execute_result"
    }
   ],
   "source": [
    "len(data)"
   ]
  },
  {
   "cell_type": "code",
   "execution_count": 15,
   "metadata": {},
   "outputs": [],
   "source": [
    "for i in range(-1):\n",
    "    print(i)"
   ]
  },
  {
   "cell_type": "code",
   "execution_count": 111,
   "metadata": {},
   "outputs": [
    {
     "data": {
      "text/html": [
       "<div>\n",
       "<style scoped>\n",
       "    .dataframe tbody tr th:only-of-type {\n",
       "        vertical-align: middle;\n",
       "    }\n",
       "\n",
       "    .dataframe tbody tr th {\n",
       "        vertical-align: top;\n",
       "    }\n",
       "\n",
       "    .dataframe thead th {\n",
       "        text-align: right;\n",
       "    }\n",
       "</style>\n",
       "<table border=\"1\" class=\"dataframe\">\n",
       "  <thead>\n",
       "    <tr style=\"text-align: right;\">\n",
       "      <th></th>\n",
       "      <th>x</th>\n",
       "      <th>y</th>\n",
       "    </tr>\n",
       "  </thead>\n",
       "  <tbody>\n",
       "    <tr>\n",
       "      <th>0</th>\n",
       "      <td>1</td>\n",
       "      <td>2.0</td>\n",
       "    </tr>\n",
       "    <tr>\n",
       "      <th>1</th>\n",
       "      <td>2</td>\n",
       "      <td>4.0</td>\n",
       "    </tr>\n",
       "    <tr>\n",
       "      <th>2</th>\n",
       "      <td>3</td>\n",
       "      <td>0.0</td>\n",
       "    </tr>\n",
       "  </tbody>\n",
       "</table>\n",
       "</div>"
      ],
      "text/plain": [
       "   x    y\n",
       "0  1  2.0\n",
       "1  2  4.0\n",
       "2  3  0.0"
      ]
     },
     "execution_count": 111,
     "metadata": {},
     "output_type": "execute_result"
    }
   ],
   "source": [
    "x = [1,2,3,1,2,3,1,2,3]\n",
    "y = [1*1,2*1,0*1,1*2,2*2,0*2,1*3,2*3,0*3]\n",
    "dict1 = {\"x\":x, \"y\": y}\n",
    "dict1[\"x\"] = x\n",
    "dict1[\"y\"] = y\n",
    "df = pd.DataFrame.from_dict(dict1)\n",
    "new_df = df.groupby('x').mean().reset_index()\n",
    "new_df"
   ]
  },
  {
   "cell_type": "code",
   "execution_count": 114,
   "metadata": {},
   "outputs": [],
   "source": [
    "new_df2 = df.groupby('x').std().reset_index()"
   ]
  },
  {
   "cell_type": "code",
   "execution_count": 115,
   "metadata": {},
   "outputs": [
    {
     "data": {
      "text/plain": [
       "array([1, 2, 3], dtype=int64)"
      ]
     },
     "execution_count": 115,
     "metadata": {},
     "output_type": "execute_result"
    }
   ],
   "source": [
    "new_df2['x'].values"
   ]
  },
  {
   "cell_type": "code",
   "execution_count": 33,
   "metadata": {},
   "outputs": [
    {
     "data": {
      "text/plain": [
       "<matplotlib.image.AxesImage at 0x235f5714e50>"
      ]
     },
     "execution_count": 33,
     "metadata": {},
     "output_type": "execute_result"
    },
    {
     "data": {
      "image/png": "[encoded data removed]",
      "text/plain": [
       "<Figure size 600x400 with 1 Axes>"
      ]
     },
     "metadata": {},
     "output_type": "display_data"
    }
   ],
   "source": [
    "figure, ax = plt.subplots(figsize=(6, 4))\n",
    "colormap = \"viridis\"\n",
    "norm_value = 0.04\n",
    "ax.imshow(image/np.max(image), cmap=colormap, vmin = 0, vmax = norm_value)\n",
    "        "
   ]
  },
  {
   "cell_type": "code",
   "execution_count": 36,
   "metadata": {},
   "outputs": [
    {
     "data": {
      "text/plain": [
       "['AboveDResonanceCurrent',\n",
       " 'AbsHFFreq',\n",
       " 'AddSpeciesDetuning',\n",
       " 'AddSpeciesIntensity',\n",
       " 'AddSpeciesMOTRepumperIntensity',\n",
       " 'AddSpeciesMolassesIntensity',\n",
       " 'AddSpeciesMolassesRepumper',\n",
       " 'AndorCleanTime',\n",
       " 'AndorCleanTime1',\n",
       " 'AndorIntermediateTime',\n",
       " 'AndorReadoutTime',\n",
       " 'AndorShutterTime',\n",
       " 'BCTransferTime',\n",
       " 'BECThermalization',\n",
       " 'BShiftDecompressed',\n",
       " 'BShiftQuadrupoleV',\n",
       " 'BelowDResonanceCurrent',\n",
       " 'BlowingPulse',\n",
       " 'BraggAOMFreq',\n",
       " 'BraggPulse',\n",
       " 'CF150CompensationHF',\n",
       " 'CF150Shift',\n",
       " 'CF150ShiftDecompressed',\n",
       " 'CF150VerticalBiasDecompressed',\n",
       " 'CMOTAddSpeciesDetuning',\n",
       " 'CMOTCurrent',\n",
       " 'CMOTD1Detuning',\n",
       " 'CMOTDetuningCooler',\n",
       " 'CMOTDetuningRepumper',\n",
       " 'CMOTHoldTime',\n",
       " 'CMOTIntensityCooler',\n",
       " 'CMOTIntensityRepumper',\n",
       " 'CMOTRampTime',\n",
       " 'Calibration',\n",
       " 'CalibrationCF150',\n",
       " 'CalibrationCLX',\n",
       " 'CalibrationCLY',\n",
       " 'CalibrationFeshbach',\n",
       " 'CalibrationOP',\n",
       " 'CleaningTime39',\n",
       " 'CloverLeafCurrentX',\n",
       " 'CloverLeafCurrentY',\n",
       " 'CompensationCL',\n",
       " 'CompensationCLX',\n",
       " 'CompensationCLY',\n",
       " 'CompressionTime',\n",
       " 'CreationTime',\n",
       " 'D1AddSpeciesDetuning',\n",
       " 'D1Intensity',\n",
       " 'D1Offset',\n",
       " 'DetuningShift',\n",
       " 'DipoleCrossed1Power',\n",
       " 'DipoleTrapEvaporationTime',\n",
       " 'DipoleTrapEvaporationTime2',\n",
       " 'DipoleTrapEvaporationTime2_39',\n",
       " 'DropletRampingTime',\n",
       " 'ELattice',\n",
       " 'ExpansionTime',\n",
       " 'ExposureTime',\n",
       " 'ExposureTimeAndor',\n",
       " 'FK_VShiftTime',\n",
       " 'FakeVariable',\n",
       " 'FaradayImIntensity',\n",
       " 'FeshbachCurrent',\n",
       " 'FeshbachCurrentBC',\n",
       " 'FeshbachCurrentBC2',\n",
       " 'FeshbachCurrentBC3',\n",
       " 'FeshbachCurrentDroplet',\n",
       " 'FeshbachCurrentDroplet2',\n",
       " 'FeshbachDissociationCurrent',\n",
       " 'FeshbachUpTime',\n",
       " 'FieldRampRate',\n",
       " 'FreqATransfer',\n",
       " 'FreqBTransfer',\n",
       " 'FreqCBTransfer',\n",
       " 'FreqOffsetSpinInj',\n",
       " 'FreqRamanBeam2',\n",
       " 'FreqRamanDetuning',\n",
       " 'FreqRamanDetuning41',\n",
       " 'FreqRamanSD',\n",
       " 'FreqRamanSDFinal',\n",
       " 'FreqRamanSDInitial',\n",
       " 'FreqSpinInjection',\n",
       " 'FreqSygnadyneCorrection',\n",
       " 'GuideTime',\n",
       " 'HighFieldCurrent',\n",
       " 'HighFieldCurrent1',\n",
       " 'HighFieldCurrent2',\n",
       " 'HoldTime',\n",
       " 'HybridDownTime',\n",
       " 'HybridEvapDecompressTime',\n",
       " 'HyperfineTransferTime39',\n",
       " 'HyperfineTransferTime41',\n",
       " 'Imaging39Intensity',\n",
       " 'Imaging41Intensity',\n",
       " 'JumpBias',\n",
       " 'KickTime',\n",
       " 'KickTime2',\n",
       " 'KickTimeMagnetic',\n",
       " 'LatticeDelay',\n",
       " 'LatticeModCycles',\n",
       " 'LatticeModFreq',\n",
       " 'LatticePower',\n",
       " 'LatticePower_VCA',\n",
       " 'LatticeRampingTime',\n",
       " 'LatticeRampingTime2',\n",
       " 'LatticeWaitTime',\n",
       " 'LoadingTime39',\n",
       " 'MOTCurrent',\n",
       " 'MOTDetuningCooler',\n",
       " 'MOTDetuningRepumper',\n",
       " 'MOTIntensityCooler',\n",
       " 'MOTIntensityRepumper',\n",
       " 'MOTLoadingTime',\n",
       " 'MagTrapCatchCurrent',\n",
       " 'MagTrapCatchTime',\n",
       " 'MagTrapCleaningCurrent',\n",
       " 'MagTrapCleaningRampTime',\n",
       " 'MagTrapCleaningTime',\n",
       " 'MagTrapCompressedCurrent',\n",
       " 'MagTrapCompressionTime',\n",
       " 'MagTrapDecompressedCurrent',\n",
       " 'MagTrapDecompressedCurrent2',\n",
       " 'MagTrapDecompressionTime',\n",
       " 'MagTrapHoldTime',\n",
       " 'MagTrapThermTime',\n",
       " 'Magnification',\n",
       " 'MagnificationY',\n",
       " 'ModulationAmplitude',\n",
       " 'ModulationFrequency',\n",
       " 'Molasses1Time',\n",
       " 'MolassesDetuning',\n",
       " 'MolassesRampD1Intensity',\n",
       " 'MolassesRampTime',\n",
       " 'OP1',\n",
       " 'OP2',\n",
       " 'OP3',\n",
       " 'OPD1Detuning',\n",
       " 'OPField',\n",
       " 'OPIntensity',\n",
       " 'OPVerticalBiasCompressed',\n",
       " 'OPVerticalBiasDecompressed',\n",
       " 'OpticalPumpingBias',\n",
       " 'ProbeDetuning',\n",
       " 'ProbeDetuning39',\n",
       " 'ProbeDetuning41Blowing',\n",
       " 'PulseTimeAB',\n",
       " 'PulseTimeABSOC',\n",
       " 'PulseTimeBC',\n",
       " 'PulseTimeCB',\n",
       " 'PushDetuning',\n",
       " 'PushDetuning39K',\n",
       " 'PushPower39',\n",
       " 'PushPower41',\n",
       " 'RF1',\n",
       " 'RF139',\n",
       " 'RFevapFrequency_Start',\n",
       " 'RFevapFrequency_Stop',\n",
       " 'RFevapPower',\n",
       " 'RFevapPowerStart',\n",
       " 'RFevapPowerStop',\n",
       " 'RFevap_Tau',\n",
       " 'RFevap_Time',\n",
       " 'RamanFinalPower',\n",
       " 'RamanInitialPower',\n",
       " 'RamanPower',\n",
       " 'RamanPowerRampTime',\n",
       " 'RampUpFeshbachRF',\n",
       " 'RampUpFeshbachTime',\n",
       " 'RampUpTime',\n",
       " 'RampUpTimeHF',\n",
       " 'Rate',\n",
       " 'Rate2',\n",
       " 'Recoil39',\n",
       " 'Recoil41',\n",
       " 'RemoveWShiftTime',\n",
       " 'Repetition',\n",
       " 'RepumperTime',\n",
       " 'ShakingStrength',\n",
       " 'SpanFrequency',\n",
       " 'StabilizationTime',\n",
       " 'SternGerlachTime',\n",
       " 'StopEvaporation',\n",
       " 'StopTime',\n",
       " 'StripeHoldTime',\n",
       " 'SweepRamanTime',\n",
       " 'SweepRamanTime2',\n",
       " 'Tau2',\n",
       " 'Tau3',\n",
       " 'TauX',\n",
       " 'ToFTime',\n",
       " 'TuningRepumper',\n",
       " 'UniformFieldTime',\n",
       " 'WShift',\n",
       " 'WShiftDecompressed',\n",
       " 'WaitTime',\n",
       " 'WaitTimeTrap',\n",
       " 'XPower',\n",
       " 'XRampUpTime',\n",
       " 'YAGEvaporationPower',\n",
       " 'YAGPower',\n",
       " 'ZPower',\n",
       " 'ZRampUpTime',\n",
       " 'ZeemanFrequency39AB',\n",
       " 'ZeemanFrequency39ABHighField',\n",
       " 'ZeemanFrequency39BC',\n",
       " 'ZeemanFrequency39BCHighField',\n",
       " 'ZeemanFrequency39BCRFfield',\n",
       " 'ZeemanFrequency39CBSOC',\n",
       " 'ZeemanFrequency41AB',\n",
       " 'ZeemanFrequency41BC',\n",
       " 'ZeemanFrequency41CD',\n",
       " 'ZeemanFrequencyHF',\n",
       " 'ZeemanFrequencyHF2',\n",
       " 'ZeemanSpanFrequency',\n",
       " 'ZeemanTransferTime',\n",
       " 'ZeemanTransferTimeBC',\n",
       " 'ZeemanTransferTimeHF',\n",
       " 'fitingTime',\n",
       " 'loop',\n",
       " 'port39K',\n",
       " 'port41K',\n",
       " 'wFinalEvaporationPower',\n",
       " 'wRampingUpPower',\n",
       " 'xFinalEvaporationPower']"
      ]
     },
     "execution_count": 36,
     "metadata": {},
     "output_type": "execute_result"
    }
   ],
   "source": [
    "sorted(list(m.variables.keys()))"
   ]
  },
  {
   "cell_type": "code",
   "execution_count": 18,
   "metadata": {},
   "outputs": [],
   "source": [
    "data = LoadData(\"processedData.pkl\")"
   ]
  },
  {
   "cell_type": "code",
   "execution_count": 36,
   "metadata": {},
   "outputs": [],
   "source": [
    "IntAtomNum = []\n",
    "FitAtomNum = []\n",
    "variables = []\n",
    "for image in data:\n",
    "    FitAtomNum.append(image[\"Results\"]['Fitted Atom Number'])\n",
    "    IntAtomNum.append(image[\"Results\"]['Integrated Atom Number'])\n",
    "    variables.append(image[\"Variables\"])"
   ]
  },
  {
   "cell_type": "code",
   "execution_count": 44,
   "metadata": {},
   "outputs": [],
   "source": [
    "x = list(grouped_data.keys())"
   ]
  },
  {
   "cell_type": "code",
   "execution_count": 114,
   "metadata": {},
   "outputs": [],
   "source": [
    "var = [10000, 10000]\n",
    "from matplotlib.backends.backend_qt5agg import FigureCanvasQTAgg as FigureCanvas"
   ]
  },
  {
   "cell_type": "code",
   "execution_count": 149,
   "metadata": {},
   "outputs": [
    {
     "data": {
      "image/png": "[encoded data removed]",
      "text/plain": [
       "<Figure size 900x400 with 1 Axes>"
      ]
     },
     "metadata": {},
     "output_type": "display_data"
    }
   ],
   "source": [
    "figure, ax = plt.subplots(figsize=(6*1.5, 4), facecolor='#CED3DC')\n",
    "canvas = FigureCanvas(figure)\n",
    "ax.plot(m.ROI[:,m.center[1]], 'o', color = 'steelblue', zorder = 2, label = \"Test1\")\n",
    "ax.plot(m.fitted_image[:, m.center[1]], '--', color = 'lightblue', zorder = 1)\n",
    "\n",
    "ax.plot(m.ROI[m.center[0],:],'o', color = 'darkorange', zorder = 2)\n",
    "ax.plot(m.fitted_image[m.center[0],:],'--', color = 'navajowhite', zorder = 1)\n",
    "ax.legend()\n",
    "canvas.draw()"
   ]
  },
  {
   "cell_type": "code",
   "execution_count": 117,
   "metadata": {},
   "outputs": [],
   "source": [
    "ax.set_xlim([0.4, 0.90])\n",
    "canvas.draw()\n",
    "\n"
   ]
  },
  {
   "cell_type": "code",
   "execution_count": 127,
   "metadata": {},
   "outputs": [
    {
     "data": {
      "text/plain": [
       "'2024-11-13 10:40:08'"
      ]
     },
     "execution_count": 127,
     "metadata": {},
     "output_type": "execute_result"
    }
   ],
   "source": [
    "import datetime\n",
    "datetime.datetime.now().strftime(\"%Y-%m-%d %H:%M:%S\")"
   ]
  },
  {
   "cell_type": "code",
   "execution_count": 31,
   "metadata": {},
   "outputs": [
    {
     "name": "stdout",
     "output_type": "stream",
     "text": [
      "Center\n"
     ]
    }
   ],
   "source": [
    "a = \"Center x\"\n",
    "print(a[:-2])"
   ]
  },
  {
   "cell_type": "code",
   "execution_count": 20,
   "metadata": {},
   "outputs": [
    {
     "data": {
      "text/plain": [
       "([1, 2, 3, 1, 2, 3, 1, 2, 3], array([0, 1, 2, 3, 4, 5, 6, 7, 8]))"
      ]
     },
     "execution_count": 20,
     "metadata": {},
     "output_type": "execute_result"
    }
   ],
   "source": [
    "y = np.arange(9)\n",
    "x = [1,2,3]*3\n",
    "x, y"
   ]
  },
  {
   "cell_type": "code",
   "execution_count": 24,
   "metadata": {},
   "outputs": [
    {
     "data": {
      "text/html": [
       "<div>\n",
       "<style scoped>\n",
       "    .dataframe tbody tr th:only-of-type {\n",
       "        vertical-align: middle;\n",
       "    }\n",
       "\n",
       "    .dataframe tbody tr th {\n",
       "        vertical-align: top;\n",
       "    }\n",
       "\n",
       "    .dataframe thead th {\n",
       "        text-align: right;\n",
       "    }\n",
       "</style>\n",
       "<table border=\"1\" class=\"dataframe\">\n",
       "  <thead>\n",
       "    <tr style=\"text-align: right;\">\n",
       "      <th></th>\n",
       "      <th>x</th>\n",
       "      <th>y</th>\n",
       "    </tr>\n",
       "  </thead>\n",
       "  <tbody>\n",
       "    <tr>\n",
       "      <th>0</th>\n",
       "      <td>1</td>\n",
       "      <td>0</td>\n",
       "    </tr>\n",
       "    <tr>\n",
       "      <th>1</th>\n",
       "      <td>2</td>\n",
       "      <td>1</td>\n",
       "    </tr>\n",
       "    <tr>\n",
       "      <th>2</th>\n",
       "      <td>3</td>\n",
       "      <td>2</td>\n",
       "    </tr>\n",
       "    <tr>\n",
       "      <th>3</th>\n",
       "      <td>1</td>\n",
       "      <td>3</td>\n",
       "    </tr>\n",
       "    <tr>\n",
       "      <th>4</th>\n",
       "      <td>2</td>\n",
       "      <td>4</td>\n",
       "    </tr>\n",
       "    <tr>\n",
       "      <th>5</th>\n",
       "      <td>3</td>\n",
       "      <td>5</td>\n",
       "    </tr>\n",
       "    <tr>\n",
       "      <th>6</th>\n",
       "      <td>1</td>\n",
       "      <td>6</td>\n",
       "    </tr>\n",
       "    <tr>\n",
       "      <th>7</th>\n",
       "      <td>2</td>\n",
       "      <td>7</td>\n",
       "    </tr>\n",
       "    <tr>\n",
       "      <th>8</th>\n",
       "      <td>3</td>\n",
       "      <td>8</td>\n",
       "    </tr>\n",
       "  </tbody>\n",
       "</table>\n",
       "</div>"
      ],
      "text/plain": [
       "   x  y\n",
       "0  1  0\n",
       "1  2  1\n",
       "2  3  2\n",
       "3  1  3\n",
       "4  2  4\n",
       "5  3  5\n",
       "6  1  6\n",
       "7  2  7\n",
       "8  3  8"
      ]
     },
     "execution_count": 24,
     "metadata": {},
     "output_type": "execute_result"
    }
   ],
   "source": [
    "df = pd.DataFrame({'x': x, 'y': y})\n",
    "grouped_df = df.groupby('x')['y'].mean().reset_index()\n",
    "grouped_std = df.groupby('x')['y'].std().reset_index()\n",
    "df"
   ]
  },
  {
   "cell_type": "code",
   "execution_count": 17,
   "metadata": {},
   "outputs": [],
   "source": [
    "x = grouped_df['x'].values\n",
    "averaged_y = grouped_df['y'].values\n",
    "std_y = grouped_std['y'].values"
   ]
  },
  {
   "cell_type": "code",
   "execution_count": 18,
   "metadata": {},
   "outputs": [
    {
     "data": {
      "text/plain": [
       "(array([1, 2, 3], dtype=int64), array([3., 4., 5.]))"
      ]
     },
     "execution_count": 18,
     "metadata": {},
     "output_type": "execute_result"
    }
   ],
   "source": [
    "x, averaged_y"
   ]
  },
  {
   "cell_type": "code",
   "execution_count": 22,
   "metadata": {},
   "outputs": [
    {
     "data": {
      "text/html": [
       "<div>\n",
       "<style scoped>\n",
       "    .dataframe tbody tr th:only-of-type {\n",
       "        vertical-align: middle;\n",
       "    }\n",
       "\n",
       "    .dataframe tbody tr th {\n",
       "        vertical-align: top;\n",
       "    }\n",
       "\n",
       "    .dataframe thead th {\n",
       "        text-align: right;\n",
       "    }\n",
       "</style>\n",
       "<table border=\"1\" class=\"dataframe\">\n",
       "  <thead>\n",
       "    <tr style=\"text-align: right;\">\n",
       "      <th></th>\n",
       "      <th>x</th>\n",
       "      <th>y</th>\n",
       "    </tr>\n",
       "  </thead>\n",
       "  <tbody>\n",
       "    <tr>\n",
       "      <th>0</th>\n",
       "      <td>1</td>\n",
       "      <td>3.0</td>\n",
       "    </tr>\n",
       "    <tr>\n",
       "      <th>1</th>\n",
       "      <td>2</td>\n",
       "      <td>4.0</td>\n",
       "    </tr>\n",
       "    <tr>\n",
       "      <th>2</th>\n",
       "      <td>3</td>\n",
       "      <td>5.0</td>\n",
       "    </tr>\n",
       "  </tbody>\n",
       "</table>\n",
       "</div>"
      ],
      "text/plain": [
       "   x    y\n",
       "0  1  3.0\n",
       "1  2  4.0\n",
       "2  3  5.0"
      ]
     },
     "execution_count": 22,
     "metadata": {},
     "output_type": "execute_result"
    }
   ],
   "source": [
    "grouped_df"
   ]
  },
  {
   "cell_type": "code",
   "execution_count": 31,
   "metadata": {},
   "outputs": [
    {
     "data": {
      "text/html": [
       "<div>\n",
       "<style scoped>\n",
       "    .dataframe tbody tr th:only-of-type {\n",
       "        vertical-align: middle;\n",
       "    }\n",
       "\n",
       "    .dataframe tbody tr th {\n",
       "        vertical-align: top;\n",
       "    }\n",
       "\n",
       "    .dataframe thead th {\n",
       "        text-align: right;\n",
       "    }\n",
       "</style>\n",
       "<table border=\"1\" class=\"dataframe\">\n",
       "  <thead>\n",
       "    <tr style=\"text-align: right;\">\n",
       "      <th></th>\n",
       "      <th>y</th>\n",
       "    </tr>\n",
       "    <tr>\n",
       "      <th>x</th>\n",
       "      <th></th>\n",
       "    </tr>\n",
       "  </thead>\n",
       "  <tbody>\n",
       "    <tr>\n",
       "      <th>1</th>\n",
       "      <td>3.0</td>\n",
       "    </tr>\n",
       "    <tr>\n",
       "      <th>2</th>\n",
       "      <td>4.0</td>\n",
       "    </tr>\n",
       "    <tr>\n",
       "      <th>3</th>\n",
       "      <td>5.0</td>\n",
       "    </tr>\n",
       "  </tbody>\n",
       "</table>\n",
       "</div>"
      ],
      "text/plain": [
       "     y\n",
       "x     \n",
       "1  3.0\n",
       "2  4.0\n",
       "3  5.0"
      ]
     },
     "execution_count": 31,
     "metadata": {},
     "output_type": "execute_result"
    }
   ],
   "source": [
    "grouped_df = df.groupby('x').mean()\n",
    "grouped_df.head()"
   ]
  },
  {
   "cell_type": "code",
   "execution_count": 34,
   "metadata": {},
   "outputs": [
    {
     "data": {
      "text/plain": [
       "{'MOTLoadingTime': 11.0,\n",
       " 'CMOTRampTime': 0.006,\n",
       " 'CMOTHoldTime': 0.001,\n",
       " 'MOTCurrent': 13.0,\n",
       " 'CMOTCurrent': 11.0,\n",
       " 'MOTDetuningCooler': -6.7,\n",
       " 'CMOTDetuningCooler': -3.0,\n",
       " 'MOTDetuningRepumper': -2.7,\n",
       " 'CMOTDetuningRepumper': -0.8,\n",
       " 'MOTIntensityCooler': 0.99,\n",
       " 'MOTIntensityRepumper': 0.99,\n",
       " 'CMOTIntensityCooler': 0.05,\n",
       " 'CMOTIntensityRepumper': 0.001,\n",
       " 'D1Intensity': 1.0,\n",
       " 'MolassesDetuning': 4.7,\n",
       " 'PushDetuning': 5.3,\n",
       " 'ToFTime': 0.005,\n",
       " 'ExposureTime': 5e-05,\n",
       " 'ProbeDetuning': 1.8,\n",
       " 'fitingTime': 3.0,\n",
       " 'Molasses1Time': 0.005,\n",
       " 'MolassesRampTime': 0.003,\n",
       " 'MolassesRampD1Intensity': 0.2,\n",
       " 'OP2': 0.0002,\n",
       " 'OP1': 0.00025,\n",
       " 'OPD1Detuning': 4.3,\n",
       " 'MagTrapCompressionTime': 1.0,\n",
       " 'MagTrapDecompressionTime': 0.5,\n",
       " 'MagTrapCatchCurrent': 35.0,\n",
       " 'MagTrapCompressedCurrent': 180.0,\n",
       " 'MagTrapDecompressedCurrent': 30.0,\n",
       " 'MagTrapCatchTime': 0.015,\n",
       " 'MagTrapThermTime': 0.1,\n",
       " 'OP3': 0.00025,\n",
       " 'MagTrapCleaningTime': 0.1,\n",
       " 'MagTrapCleaningCurrent': 22.0,\n",
       " 'MagTrapCleaningRampTime': 0.1,\n",
       " 'YAGPower': 5.4,\n",
       " 'MagTrapHoldTime': 0.1,\n",
       " 'DipoleTrapEvaporationTime': 4.0,\n",
       " 'YAGEvaporationPower': 0.45,\n",
       " 'Tau2': 0.5,\n",
       " 'KickTime': 0.0015,\n",
       " 'DipoleCrossed1Power': 0.85,\n",
       " 'wFinalEvaporationPower': 0.15,\n",
       " 'DipoleTrapEvaporationTime2': 3.0,\n",
       " 'Tau3': 1.0,\n",
       " 'UniformFieldTime': 0.5,\n",
       " 'ZeemanTransferTime': 0.5,\n",
       " 'SternGerlachTime': 1e-05,\n",
       " 'WaitTime': 0.002,\n",
       " 'StopEvaporation': 3.5,\n",
       " 'StopTime': 2.0,\n",
       " 'ProbeDetuning39': 0.5,\n",
       " 'PushDetuning39K': 2.0,\n",
       " 'AddSpeciesDetuning': 240.0,\n",
       " 'Calibration': 6.0,\n",
       " 'CMOTAddSpeciesDetuning': 240.0,\n",
       " 'AddSpeciesMolassesRepumper': 1.0,\n",
       " 'LoadingTime39': 0.01,\n",
       " 'FeshbachUpTime': 0.05,\n",
       " 'FeshbachCurrent': 13.3,\n",
       " 'CleaningTime39': 0.02,\n",
       " 'wRampingUpPower': 0.2,\n",
       " 'RF1': 259000000.0,\n",
       " 'HoldTime': 0.001,\n",
       " 'RF139': 465700000.0,\n",
       " 'ZRampUpTime': 0.1,\n",
       " 'HybridDownTime': 0.8,\n",
       " 'HyperfineTransferTime41': 0.1,\n",
       " 'HyperfineTransferTime39': 0.1,\n",
       " 'CloverLeafCurrentX': 0.75,\n",
       " 'CloverLeafCurrentY': 2.25,\n",
       " 'Magnification': 1.1836,\n",
       " 'MagnificationY': 2.09,\n",
       " 'ModulationAmplitude': 0.2,\n",
       " 'ZeemanSpanFrequency': 1000000.0,\n",
       " 'ZeemanFrequencyHF': 97803200.0,\n",
       " 'ZeemanTransferTimeHF': 0.05,\n",
       " 'FeshbachCurrentBC': 23.49,\n",
       " 'FeshbachCurrentBC2': 22.0,\n",
       " 'ZeemanFrequencyHF2': 98631800.0,\n",
       " 'PulseTimeCB': 0.0004,\n",
       " 'ZeemanTransferTimeBC': 0.1,\n",
       " 'ModulationFrequency': 700000.0,\n",
       " 'RampUpTime': 0.5,\n",
       " 'GuideTime': 0.01,\n",
       " 'DropletRampingTime': 0.02,\n",
       " 'ZeemanFrequency41AB': 28689632.0,\n",
       " 'ZeemanFrequency39AB': 32600000.0,\n",
       " 'ZeemanFrequency39BC': 37560000.0,\n",
       " 'ZeemanFrequency41BC': 35908710.0,\n",
       " 'ZeemanFrequency41CD': 163063000.0,\n",
       " 'FK_VShiftTime': 0.0017,\n",
       " 'AndorIntermediateTime': 0.001,\n",
       " 'AndorReadoutTime': 1.0,\n",
       " 'AndorCleanTime': 5e-05,\n",
       " 'SpanFrequency': 1000000.0,\n",
       " 'Imaging41Intensity': 7.0,\n",
       " 'Imaging39Intensity': 7.0,\n",
       " 'FieldRampRate': 20.0,\n",
       " 'ExpansionTime': 0.0001,\n",
       " 'BECThermalization': 0.3,\n",
       " 'FeshbachDissociationCurrent': 24.22,\n",
       " 'loop': 0.0,\n",
       " 'FreqBTransfer': 65780000.0,\n",
       " 'BlowingPulse': 6.5e-05,\n",
       " 'RepumperTime': 0.0001,\n",
       " 'ExposureTimeAndor': 3e-05,\n",
       " 'AndorCleanTime1': 5e-06,\n",
       " 'CompensationCLX': 0.0069,\n",
       " 'Rate': 5.0,\n",
       " 'FreqATransfer': 57920000.0,\n",
       " 'FeshbachCurrentDroplet': 24.2,\n",
       " 'FeshbachCurrentBC3': 143.638,\n",
       " 'AndorShutterTime': 5e-06,\n",
       " 'RampUpFeshbachTime': 0.1,\n",
       " 'LatticePower': 0.21,\n",
       " 'BCTransferTime': 0.2,\n",
       " 'FreqCBTransfer': 36000000.0,\n",
       " 'D1AddSpeciesDetuning': 265.0,\n",
       " 'BraggPulse': 4e-05,\n",
       " 'AddSpeciesMOTRepumperIntensity': 8.0,\n",
       " 'TuningRepumper': 6.5,\n",
       " 'CompensationCLY': 0.01846,\n",
       " 'CalibrationFeshbach': 2.33497,\n",
       " 'FeshbachCurrentDroplet2': 24.2,\n",
       " 'Rate2': 15.0,\n",
       " 'RampUpFeshbachRF': 0.2,\n",
       " 'OpticalPumpingBias': 0.5,\n",
       " 'OPField': 5.0,\n",
       " 'xFinalEvaporationPower': 0.15,\n",
       " 'CMOTD1Detuning': 5.5,\n",
       " 'TauX': 2.0,\n",
       " 'AddSpeciesIntensity': 10.0,\n",
       " 'AddSpeciesMolassesIntensity': 2.0,\n",
       " 'BShiftQuadrupoleV': 6.75,\n",
       " 'MagTrapDecompressedCurrent2': 14.0,\n",
       " 'BShiftDecompressed': 3.0,\n",
       " 'HybridEvapDecompressTime': 1.0,\n",
       " 'XRampUpTime': 0.7,\n",
       " 'WShift': 2.0,\n",
       " 'RemoveWShiftTime': 0.5,\n",
       " 'WShiftDecompressed': 1.5,\n",
       " 'JumpBias': 2.0,\n",
       " 'RamanFinalPower': 2.5,\n",
       " 'RamanInitialPower': 4.0,\n",
       " 'RamanPowerRampTime': 0.015,\n",
       " 'XPower': 0.3,\n",
       " 'BelowDResonanceCurrent': 5.5,\n",
       " 'AboveDResonanceCurrent': 8.5,\n",
       " 'DetuningShift': -0.2,\n",
       " 'CF150VerticalBiasDecompressed': 0.15,\n",
       " 'RampUpTimeHF': 0.02,\n",
       " 'ZeemanFrequency39ABHighField': 84700000.0,\n",
       " 'ZeemanFrequency39BCHighField': 118295000.0,\n",
       " 'HighFieldCurrent2': 21.942,\n",
       " 'PushPower41': 4.5,\n",
       " 'HighFieldCurrent1': 21.942,\n",
       " 'ZeemanFrequency39CBSOC': 101200000.0,\n",
       " 'ZPower': 0.015,\n",
       " 'StabilizationTime': 0.5,\n",
       " 'ZeemanFrequency39BCRFfield': 41779800.0,\n",
       " 'FakeVariable': 0.0,\n",
       " 'PushPower39': 6.0,\n",
       " 'CompensationCL': 0.012,\n",
       " 'CalibrationCLX': 0.057,\n",
       " 'CalibrationCLY': 0.031,\n",
       " 'WaitTimeTrap': 0.01,\n",
       " 'FreqSpinInjection': 57851500.0,\n",
       " 'PulseTimeAB': 2e-05,\n",
       " 'CF150CompensationHF': 2.3,\n",
       " 'KickTime2': 0.0009,\n",
       " 'RamanPower': 0.3,\n",
       " 'PulseTimeABSOC': 2e-05,\n",
       " 'KickTimeMagnetic': 0.006,\n",
       " 'CalibrationCF150': 0.016,\n",
       " 'DipoleTrapEvaporationTime2_39': 3.0,\n",
       " 'FreqRamanBeam2': 118730900.0,\n",
       " 'FreqRamanDetuning': 34638.0,\n",
       " 'SweepRamanTime': 0.005,\n",
       " 'FreqRamanSD': 0.0,\n",
       " 'FreqRamanSDInitial': 0.0,\n",
       " 'Recoil39': 3.228,\n",
       " 'FreqRamanSDFinal': 0.0,\n",
       " 'ProbeDetuning41Blowing': 0.6,\n",
       " 'LatticePower_VCA': 0.0,\n",
       " 'Recoil41': 3.125,\n",
       " 'FaradayImIntensity': 2.2,\n",
       " 'SweepRamanTime2': 0.01,\n",
       " 'FreqSygnadyneCorrection': 1270.0,\n",
       " 'D1Offset': -0.3,\n",
       " 'HighFieldCurrent': 167.8,\n",
       " 'FreqOffsetSpinInj': 18000.0,\n",
       " 'OPVerticalBiasCompressed': 1.4,\n",
       " 'OPVerticalBiasDecompressed': 1.5,\n",
       " 'CF150Shift': 0.8,\n",
       " 'CalibrationOP': 0.065,\n",
       " 'RFevapFrequency_Stop': 260000000.0,\n",
       " 'RFevapFrequency_Start': 300000000.0,\n",
       " 'RFevap_Tau': 10.0,\n",
       " 'RFevap_Time': 8.0,\n",
       " 'LatticeRampingTime': 0.03,\n",
       " 'LatticeModFreq': 300.0,\n",
       " 'LatticeRampingTime2': 0.0003,\n",
       " 'LatticeModCycles': 13.0,\n",
       " 'LatticeWaitTime': 0.03,\n",
       " 'ELattice': 5.21,\n",
       " 'LatticeDelay': 0.0001,\n",
       " 'AbsHFFreq': 565000000.0,\n",
       " 'FreqRamanDetuning41': 32948.0,\n",
       " 'PulseTimeBC': 1.5e-05,\n",
       " 'StripeHoldTime': 1.0,\n",
       " 'Repetition': 1.0,\n",
       " 'BraggAOMFreq': 87.0,\n",
       " 'ShakingStrength': 0.0,\n",
       " 'CompressionTime': 0.0014,\n",
       " 'OPIntensity': 3.3,\n",
       " 'RFevapPower': 1.0,\n",
       " 'RFevapPowerStart': 1.0,\n",
       " 'RFevapPowerStop': 0.8,\n",
       " 'CF150ShiftDecompressed': 0.0,\n",
       " 'port39K': 'x',\n",
       " 'port41K': 'w',\n",
       " 'CreationTime': '2024-10-01T16:58:34.464+02:00'}"
      ]
     },
     "execution_count": 34,
     "metadata": {},
     "output_type": "execute_result"
    }
   ],
   "source": [
    "m.variables"
   ]
  },
  {
   "cell_type": "code",
   "execution_count": 59,
   "metadata": {},
   "outputs": [],
   "source": [
    "dict1 = {'a': 1, 'b': 2, 'c': 3}\n",
    "dict2 = {'a': 1, 'b': 4, 'c': 1}\n",
    "\n",
    "# Find keys with different values\n",
    "different_keys = [key for key in dict1 if key in dict2 and dict1[key] != dict2[key]]\n",
    "a = different_keys.copy()"
   ]
  },
  {
   "cell_type": "code",
   "execution_count": 60,
   "metadata": {},
   "outputs": [],
   "source": [
    "different_keys.remove('b')\n",
    "different_keys.remove('c')"
   ]
  },
  {
   "cell_type": "code",
   "execution_count": 61,
   "metadata": {},
   "outputs": [
    {
     "data": {
      "text/plain": [
       "['b', 'c']"
      ]
     },
     "execution_count": 61,
     "metadata": {},
     "output_type": "execute_result"
    }
   ],
   "source": [
    "a"
   ]
  },
  {
   "cell_type": "code",
   "execution_count": 117,
   "metadata": {},
   "outputs": [],
   "source": [
    "import pkg_resources"
   ]
  },
  {
   "cell_type": "code",
   "execution_count": null,
   "metadata": {},
   "outputs": [
    {
     "ename": "DistributionNotFound",
     "evalue": "The 'sqlite3' distribution was not found and is required by the application",
     "output_type": "error",
     "traceback": [
      "\u001b[1;31m---------------------------------------------------------------------------\u001b[0m",
      "\u001b[1;31mDistributionNotFound\u001b[0m                      Traceback (most recent call last)",
      "Cell \u001b[1;32mIn[126], line 1\u001b[0m\n\u001b[1;32m----> 1\u001b[0m version \u001b[38;5;241m=\u001b[39m \u001b[43mpkg_resources\u001b[49m\u001b[38;5;241;43m.\u001b[39;49m\u001b[43mget_distribution\u001b[49m\u001b[43m(\u001b[49m\u001b[38;5;124;43m\"\u001b[39;49m\u001b[38;5;124;43msqlite3\u001b[39;49m\u001b[38;5;124;43m\"\u001b[39;49m\u001b[43m)\u001b[49m\u001b[38;5;241m.\u001b[39mversion\n\u001b[0;32m      2\u001b[0m \u001b[38;5;28mprint\u001b[39m(\u001b[38;5;124mf\u001b[39m\u001b[38;5;124m\"\u001b[39m\u001b[38;5;124mversion: \u001b[39m\u001b[38;5;132;01m{\u001b[39;00mversion\u001b[38;5;132;01m}\u001b[39;00m\u001b[38;5;124m\"\u001b[39m)\n",
      "File \u001b[1;32mC:\\Program Files\\WindowsApps\\PythonSoftwareFoundation.Python.3.11_3.11.2288.0_x64__qbz5n2kfra8p0\\Lib\\site-packages\\pkg_resources\\__init__.py:478\u001b[0m, in \u001b[0;36mget_distribution\u001b[1;34m(dist)\u001b[0m\n\u001b[0;32m    476\u001b[0m     dist \u001b[38;5;241m=\u001b[39m Requirement\u001b[38;5;241m.\u001b[39mparse(dist)\n\u001b[0;32m    477\u001b[0m \u001b[38;5;28;01mif\u001b[39;00m \u001b[38;5;28misinstance\u001b[39m(dist, Requirement):\n\u001b[1;32m--> 478\u001b[0m     dist \u001b[38;5;241m=\u001b[39m \u001b[43mget_provider\u001b[49m\u001b[43m(\u001b[49m\u001b[43mdist\u001b[49m\u001b[43m)\u001b[49m\n\u001b[0;32m    479\u001b[0m \u001b[38;5;28;01mif\u001b[39;00m \u001b[38;5;129;01mnot\u001b[39;00m \u001b[38;5;28misinstance\u001b[39m(dist, Distribution):\n\u001b[0;32m    480\u001b[0m     \u001b[38;5;28;01mraise\u001b[39;00m \u001b[38;5;167;01mTypeError\u001b[39;00m(\u001b[38;5;124m\"\u001b[39m\u001b[38;5;124mExpected string, Requirement, or Distribution\u001b[39m\u001b[38;5;124m\"\u001b[39m, dist)\n",
      "File \u001b[1;32mC:\\Program Files\\WindowsApps\\PythonSoftwareFoundation.Python.3.11_3.11.2288.0_x64__qbz5n2kfra8p0\\Lib\\site-packages\\pkg_resources\\__init__.py:354\u001b[0m, in \u001b[0;36mget_provider\u001b[1;34m(moduleOrReq)\u001b[0m\n\u001b[0;32m    352\u001b[0m \u001b[38;5;250m\u001b[39m\u001b[38;5;124;03m\"\"\"Return an IResourceProvider for the named module or requirement\"\"\"\u001b[39;00m\n\u001b[0;32m    353\u001b[0m \u001b[38;5;28;01mif\u001b[39;00m \u001b[38;5;28misinstance\u001b[39m(moduleOrReq, Requirement):\n\u001b[1;32m--> 354\u001b[0m     \u001b[38;5;28;01mreturn\u001b[39;00m working_set\u001b[38;5;241m.\u001b[39mfind(moduleOrReq) \u001b[38;5;129;01mor\u001b[39;00m \u001b[43mrequire\u001b[49m\u001b[43m(\u001b[49m\u001b[38;5;28;43mstr\u001b[39;49m\u001b[43m(\u001b[49m\u001b[43mmoduleOrReq\u001b[49m\u001b[43m)\u001b[49m\u001b[43m)\u001b[49m[\u001b[38;5;241m0\u001b[39m]\n\u001b[0;32m    355\u001b[0m \u001b[38;5;28;01mtry\u001b[39;00m:\n\u001b[0;32m    356\u001b[0m     module \u001b[38;5;241m=\u001b[39m sys\u001b[38;5;241m.\u001b[39mmodules[moduleOrReq]\n",
      "File \u001b[1;32mC:\\Program Files\\WindowsApps\\PythonSoftwareFoundation.Python.3.11_3.11.2288.0_x64__qbz5n2kfra8p0\\Lib\\site-packages\\pkg_resources\\__init__.py:909\u001b[0m, in \u001b[0;36mWorkingSet.require\u001b[1;34m(self, *requirements)\u001b[0m\n\u001b[0;32m    900\u001b[0m \u001b[38;5;28;01mdef\u001b[39;00m \u001b[38;5;21mrequire\u001b[39m(\u001b[38;5;28mself\u001b[39m, \u001b[38;5;241m*\u001b[39mrequirements):\n\u001b[0;32m    901\u001b[0m \u001b[38;5;250m    \u001b[39m\u001b[38;5;124;03m\"\"\"Ensure that distributions matching `requirements` are activated\u001b[39;00m\n\u001b[0;32m    902\u001b[0m \n\u001b[0;32m    903\u001b[0m \u001b[38;5;124;03m    `requirements` must be a string or a (possibly-nested) sequence\u001b[39;00m\n\u001b[1;32m   (...)\u001b[0m\n\u001b[0;32m    907\u001b[0m \u001b[38;5;124;03m    included, even if they were already activated in this working set.\u001b[39;00m\n\u001b[0;32m    908\u001b[0m \u001b[38;5;124;03m    \"\"\"\u001b[39;00m\n\u001b[1;32m--> 909\u001b[0m     needed \u001b[38;5;241m=\u001b[39m \u001b[38;5;28;43mself\u001b[39;49m\u001b[38;5;241;43m.\u001b[39;49m\u001b[43mresolve\u001b[49m\u001b[43m(\u001b[49m\u001b[43mparse_requirements\u001b[49m\u001b[43m(\u001b[49m\u001b[43mrequirements\u001b[49m\u001b[43m)\u001b[49m\u001b[43m)\u001b[49m\n\u001b[0;32m    911\u001b[0m     \u001b[38;5;28;01mfor\u001b[39;00m dist \u001b[38;5;129;01min\u001b[39;00m needed:\n\u001b[0;32m    912\u001b[0m         \u001b[38;5;28mself\u001b[39m\u001b[38;5;241m.\u001b[39madd(dist)\n",
      "File \u001b[1;32mC:\\Program Files\\WindowsApps\\PythonSoftwareFoundation.Python.3.11_3.11.2288.0_x64__qbz5n2kfra8p0\\Lib\\site-packages\\pkg_resources\\__init__.py:795\u001b[0m, in \u001b[0;36mWorkingSet.resolve\u001b[1;34m(self, requirements, env, installer, replace_conflicting, extras)\u001b[0m\n\u001b[0;32m    793\u001b[0m         \u001b[38;5;28;01mif\u001b[39;00m dist \u001b[38;5;129;01mis\u001b[39;00m \u001b[38;5;28;01mNone\u001b[39;00m:\n\u001b[0;32m    794\u001b[0m             requirers \u001b[38;5;241m=\u001b[39m required_by\u001b[38;5;241m.\u001b[39mget(req, \u001b[38;5;28;01mNone\u001b[39;00m)\n\u001b[1;32m--> 795\u001b[0m             \u001b[38;5;28;01mraise\u001b[39;00m DistributionNotFound(req, requirers)\n\u001b[0;32m    796\u001b[0m     to_activate\u001b[38;5;241m.\u001b[39mappend(dist)\n\u001b[0;32m    797\u001b[0m \u001b[38;5;28;01mif\u001b[39;00m dist \u001b[38;5;129;01mnot\u001b[39;00m \u001b[38;5;129;01min\u001b[39;00m req:\n\u001b[0;32m    798\u001b[0m     \u001b[38;5;66;03m# Oops, the \"best\" so far conflicts with a dependency\u001b[39;00m\n",
      "\u001b[1;31mDistributionNotFound\u001b[0m: The 'sqlite3' distribution was not found and is required by the application"
     ]
    }
   ],
   "source": [
    "version = pkg_resources.get_distribution(\"sqlite3\").version\n",
    "print(f\"version: {version}\")"
   ]
  },
  {
   "cell_type": "code",
   "execution_count": 127,
   "metadata": {},
   "outputs": [],
   "source": [
    "import sqlite3 "
   ]
  },
  {
   "cell_type": "code",
   "execution_count": null,
   "metadata": {},
   "outputs": [],
   "source": []
  }
 ],
 "metadata": {
  "kernelspec": {
   "display_name": "Python 3",
   "language": "python",
   "name": "python3"
  },
  "language_info": {
   "codemirror_mode": {
    "name": "ipython",
    "version": 3
   },
   "file_extension": ".py",
   "mimetype": "text/x-python",
   "name": "python",
   "nbconvert_exporter": "python",
   "pygments_lexer": "ipython3",
   "version": "3.11.8"
  }
 },
 "nbformat": 4,
 "nbformat_minor": 2
}
